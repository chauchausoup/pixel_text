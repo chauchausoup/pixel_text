{
  "nbformat": 4,
  "nbformat_minor": 0,
  "metadata": {
    "colab": {
      "provenance": []
    },
    "kernelspec": {
      "name": "python3",
      "display_name": "Python 3"
    },
    "language_info": {
      "name": "python"
    }
  },
  "cells": [
    {
      "cell_type": "code",
      "source": [
        "!pip install pillow\n",
        "!wget https://assets.ubuntu.com/v1/fad7939b-ubuntu-font-family-0.83.zip -O ubuntu-font-family-0.83.zip\n",
        "!unzip -o ubuntu-font-family-0.83.zip -d ubuntu-font-family-0.83\n",
        "from PIL import Image, ImageDraw, ImageFont\n",
        "\n",
        "def create_pixel_text(text, font_path, font_size=10, scale=10, output_file='pixel_text.png'):\n",
        "    try:\n",
        "        # Load the Ubuntu font\n",
        "        font = ImageFont.truetype(font_path, font_size)\n",
        "    except IOError:\n",
        "        print(f\"Font file not found at {font_path}\")\n",
        "        return\n",
        "\n",
        "    # Determine the size of the text\n",
        "    dummy_image = Image.new('1', (1, 1))  # Create a 1-bit image for text size calculation\n",
        "    draw = ImageDraw.Draw(dummy_image)\n",
        "    text_width, text_height = draw.textsize(text, font=font)\n",
        "\n",
        "    # Create a monochrome image with a white background\n",
        "    image = Image.new('1', (text_width, text_height), 1)  # '1' for 1-bit pixels, 1 for white\n",
        "    draw = ImageDraw.Draw(image)\n",
        "\n",
        "    # Draw the text on the image\n",
        "    draw.text((0, 0), text, font=font, fill=0)  # 0 for black\n",
        "\n",
        "    # Scale the image to create the pixel art effect\n",
        "    pixel_art_image = image.resize((text_width * scale, text_height * scale), Image.NEAREST)\n",
        "\n",
        "    # Convert back to RGB for saving\n",
        "    pixel_art_image = pixel_art_image.convert(\"RGB\")\n",
        "\n",
        "    # Save the image\n",
        "    pixel_art_image.save(output_file)\n",
        "    print(f\"Pixel text saved as {output_file}\")\n",
        "\n",
        "# Example usage with Ubuntu font\n",
        "font_path = 'ubuntu-font-family-0.83/ubuntu-font-family-0.83/Ubuntu-R.ttf'  # Corrected path to the Ubuntu font file\n",
        "create_pixel_text(\"Simran\", font_path=font_path, font_size=10, scale=10, output_file='pixel_text.png')\n"
      ],
      "metadata": {
        "colab": {
          "base_uri": "https://localhost:8080/"
        },
        "id": "Rla5bo5O97Td",
        "outputId": "b03b91a5-3749-4fa7-f54c-afd35d5be58f"
      },
      "execution_count": null,
      "outputs": [
        {
          "output_type": "stream",
          "name": "stdout",
          "text": [
            "Requirement already satisfied: pillow in /usr/local/lib/python3.10/dist-packages (9.4.0)\n",
            "--2024-07-23 05:16:21--  https://assets.ubuntu.com/v1/fad7939b-ubuntu-font-family-0.83.zip\n",
            "Resolving assets.ubuntu.com (assets.ubuntu.com)... 185.125.190.20, 185.125.190.29, 185.125.190.21, ...\n",
            "Connecting to assets.ubuntu.com (assets.ubuntu.com)|185.125.190.20|:443... connected.\n",
            "HTTP request sent, awaiting response... 200 \n",
            "Length: 2092263 (2.0M) [application/zip]\n",
            "Saving to: ‘ubuntu-font-family-0.83.zip’\n",
            "\n",
            "ubuntu-font-family- 100%[===================>]   2.00M  2.59MB/s    in 0.8s    \n",
            "\n",
            "2024-07-23 05:16:22 (2.59 MB/s) - ‘ubuntu-font-family-0.83.zip’ saved [2092263/2092263]\n",
            "\n",
            "Archive:  ubuntu-font-family-0.83.zip\n",
            "  inflating: ubuntu-font-family-0.83/ubuntu-font-family-0.83/UbuntuMono-R.ttf  \n",
            "  inflating: ubuntu-font-family-0.83/ubuntu-font-family-0.83/Ubuntu-BI.ttf  \n",
            "  inflating: ubuntu-font-family-0.83/ubuntu-font-family-0.83/Ubuntu-L.ttf  \n",
            "  inflating: ubuntu-font-family-0.83/ubuntu-font-family-0.83/LICENCE-FAQ.txt  \n",
            "  inflating: ubuntu-font-family-0.83/ubuntu-font-family-0.83/LICENCE.txt  \n",
            "  inflating: ubuntu-font-family-0.83/ubuntu-font-family-0.83/Ubuntu-LI.ttf  \n",
            "  inflating: ubuntu-font-family-0.83/ubuntu-font-family-0.83/README.txt  \n",
            "  inflating: ubuntu-font-family-0.83/ubuntu-font-family-0.83/Ubuntu-MI.ttf  \n",
            "  inflating: ubuntu-font-family-0.83/ubuntu-font-family-0.83/UbuntuMono-BI.ttf  \n",
            "  inflating: ubuntu-font-family-0.83/ubuntu-font-family-0.83/UbuntuMono-B.ttf  \n",
            "  inflating: ubuntu-font-family-0.83/ubuntu-font-family-0.83/UbuntuMono-RI.ttf  \n",
            "  inflating: ubuntu-font-family-0.83/ubuntu-font-family-0.83/CONTRIBUTING.txt  \n",
            "  inflating: ubuntu-font-family-0.83/ubuntu-font-family-0.83/copyright.txt  \n",
            "  inflating: ubuntu-font-family-0.83/ubuntu-font-family-0.83/Ubuntu-B.ttf  \n",
            "  inflating: ubuntu-font-family-0.83/ubuntu-font-family-0.83/Ubuntu-M.ttf  \n",
            "  inflating: ubuntu-font-family-0.83/ubuntu-font-family-0.83/TRADEMARKS.txt  \n",
            "  inflating: ubuntu-font-family-0.83/ubuntu-font-family-0.83/FONTLOG.txt  \n",
            "  inflating: ubuntu-font-family-0.83/ubuntu-font-family-0.83/Ubuntu-RI.ttf  \n",
            "  inflating: ubuntu-font-family-0.83/ubuntu-font-family-0.83/Ubuntu-C.ttf  \n",
            "  inflating: ubuntu-font-family-0.83/ubuntu-font-family-0.83/Ubuntu-R.ttf  \n",
            "Pixel text saved as pixel_text.png\n"
          ]
        },
        {
          "output_type": "stream",
          "name": "stderr",
          "text": [
            "<ipython-input-21-559922d45db2>:17: DeprecationWarning: textsize is deprecated and will be removed in Pillow 10 (2023-07-01). Use textbbox or textlength instead.\n",
            "  text_width, text_height = draw.textsize(text, font=font)\n"
          ]
        }
      ]
    }
  ]
}